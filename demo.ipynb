{
  "metadata": {
    "language_info": {
      "codemirror_mode": {
        "name": "python",
        "version": 3
      },
      "file_extension": ".py",
      "mimetype": "text/x-python",
      "name": "python",
      "nbconvert_exporter": "python",
      "pygments_lexer": "ipython3",
      "version": "3.8"
    },
    "kernelspec": {
      "name": "python",
      "display_name": "Python (Pyodide)",
      "language": "python"
    }
  },
  "nbformat_minor": 4,
  "nbformat": 4,
  "cells": [
    {
      "cell_type": "code",
      "source": "import pandas as pd\nimport numpy as np\nimport matplotlib.pyplot as plt\n",
      "metadata": {
        "trusted": true
      },
      "execution_count": 1,
      "outputs": []
    },
    {
      "cell_type": "code",
      "source": "df = pd.read_csv(\"demo.csv\")\ndf.info()",
      "metadata": {
        "trusted": true
      },
      "execution_count": 2,
      "outputs": [
        {
          "name": "stdout",
          "text": "<class 'pandas.core.frame.DataFrame'>\nRangeIndex: 13 entries, 0 to 12\nData columns (total 8 columns):\n #   Column    Non-Null Count  Dtype  \n---  ------    --------------  -----  \n 0   product   13 non-null     object \n 1   amount    13 non-null     int64  \n 2   uid       13 non-null     int64  \n 3   paid      13 non-null     float64\n 4   date      13 non-null     object \n 5   returned  9 non-null      object \n 6   reason    5 non-null      object \n 7   province  13 non-null     object \ndtypes: float64(1), int64(2), object(5)\nmemory usage: 640.0+ bytes\n",
          "output_type": "stream"
        }
      ]
    },
    {
      "cell_type": "code",
      "source": "#date should be datetime type\ndf['date'] = df['date'].astype('datetime64')\n#uid can have letters\ndf['uid'] = df['uid'].astype('str')",
      "metadata": {
        "trusted": true
      },
      "execution_count": 3,
      "outputs": []
    },
    {
      "cell_type": "code",
      "source": "df.head(7)",
      "metadata": {
        "trusted": true
      },
      "execution_count": 4,
      "outputs": [
        {
          "execution_count": 4,
          "output_type": "execute_result",
          "data": {
            "text/plain": "  product  amount  uid       paid       date returned            reason  \\\n0       A       1  111   5.247826 2020-01-01        N               NaN   \n1       A       3  222  15.743478 2020-01-02        n               NaN   \n2       B       2  333   8.247096 2020-01-02        Y       bad quality   \n3       B       5  444  20.617740 2020-01-05       no               NaN   \n4       B       2  555   8.247096 2020-01-07      yes  no longer needed   \n5       C       4  666  33.600000 2020-01-07      NaN               NaN   \n6       C       3  777  25.200000 2020-01-06      yes       bad quality   \n\n  province  \n0      abc  \n1       de  \n2      abd  \n3      abc  \n4       de  \n5      fde  \n6      ser  ",
            "text/html": "<div>\n<style scoped>\n    .dataframe tbody tr th:only-of-type {\n        vertical-align: middle;\n    }\n\n    .dataframe tbody tr th {\n        vertical-align: top;\n    }\n\n    .dataframe thead th {\n        text-align: right;\n    }\n</style>\n<table border=\"1\" class=\"dataframe\">\n  <thead>\n    <tr style=\"text-align: right;\">\n      <th></th>\n      <th>product</th>\n      <th>amount</th>\n      <th>uid</th>\n      <th>paid</th>\n      <th>date</th>\n      <th>returned</th>\n      <th>reason</th>\n      <th>province</th>\n    </tr>\n  </thead>\n  <tbody>\n    <tr>\n      <th>0</th>\n      <td>A</td>\n      <td>1</td>\n      <td>111</td>\n      <td>5.247826</td>\n      <td>2020-01-01</td>\n      <td>N</td>\n      <td>NaN</td>\n      <td>abc</td>\n    </tr>\n    <tr>\n      <th>1</th>\n      <td>A</td>\n      <td>3</td>\n      <td>222</td>\n      <td>15.743478</td>\n      <td>2020-01-02</td>\n      <td>n</td>\n      <td>NaN</td>\n      <td>de</td>\n    </tr>\n    <tr>\n      <th>2</th>\n      <td>B</td>\n      <td>2</td>\n      <td>333</td>\n      <td>8.247096</td>\n      <td>2020-01-02</td>\n      <td>Y</td>\n      <td>bad quality</td>\n      <td>abd</td>\n    </tr>\n    <tr>\n      <th>3</th>\n      <td>B</td>\n      <td>5</td>\n      <td>444</td>\n      <td>20.617740</td>\n      <td>2020-01-05</td>\n      <td>no</td>\n      <td>NaN</td>\n      <td>abc</td>\n    </tr>\n    <tr>\n      <th>4</th>\n      <td>B</td>\n      <td>2</td>\n      <td>555</td>\n      <td>8.247096</td>\n      <td>2020-01-07</td>\n      <td>yes</td>\n      <td>no longer needed</td>\n      <td>de</td>\n    </tr>\n    <tr>\n      <th>5</th>\n      <td>C</td>\n      <td>4</td>\n      <td>666</td>\n      <td>33.600000</td>\n      <td>2020-01-07</td>\n      <td>NaN</td>\n      <td>NaN</td>\n      <td>fde</td>\n    </tr>\n    <tr>\n      <th>6</th>\n      <td>C</td>\n      <td>3</td>\n      <td>777</td>\n      <td>25.200000</td>\n      <td>2020-01-06</td>\n      <td>yes</td>\n      <td>bad quality</td>\n      <td>ser</td>\n    </tr>\n  </tbody>\n</table>\n</div>"
          },
          "metadata": {}
        }
      ]
    },
    {
      "cell_type": "code",
      "source": "df['returned'].unique()",
      "metadata": {
        "trusted": true
      },
      "execution_count": 5,
      "outputs": [
        {
          "execution_count": 5,
          "output_type": "execute_result",
          "data": {
            "text/plain": "array(['N', 'n', 'Y', 'no', 'yes', nan], dtype=object)"
          },
          "metadata": {}
        }
      ]
    },
    {
      "cell_type": "code",
      "source": "df['returned'] = df['returned'].map({\n    \"Y\" : \"Y\",\n    \"yes\" : \"Y\",\n    \"no\" : \"N\",\n    \"N\" : \"N\",\n    \"n\" : \"N\"\n}\n)",
      "metadata": {
        "trusted": true
      },
      "execution_count": 6,
      "outputs": []
    },
    {
      "cell_type": "code",
      "source": "df['returned'].unique()",
      "metadata": {
        "trusted": true
      },
      "execution_count": 7,
      "outputs": [
        {
          "execution_count": 7,
          "output_type": "execute_result",
          "data": {
            "text/plain": "array(['N', 'Y', nan], dtype=object)"
          },
          "metadata": {}
        }
      ]
    },
    {
      "cell_type": "code",
      "source": "#replace null values\ndf['returned'].replace(np.NaN , 'na')",
      "metadata": {
        "trusted": true
      },
      "execution_count": 8,
      "outputs": [
        {
          "execution_count": 8,
          "output_type": "execute_result",
          "data": {
            "text/plain": "0      N\n1      N\n2      Y\n3      N\n4      Y\n5     na\n6      Y\n7     na\n8      Y\n9     na\n10     N\n11    na\n12     Y\nName: returned, dtype: object"
          },
          "metadata": {}
        }
      ]
    },
    {
      "cell_type": "code",
      "source": "df['reason'].value_counts(normalize = True)",
      "metadata": {
        "trusted": true
      },
      "execution_count": 9,
      "outputs": [
        {
          "execution_count": 9,
          "output_type": "execute_result",
          "data": {
            "text/plain": "bad quality         0.4\nno longer needed    0.4\ndon’t like it       0.2\nName: reason, dtype: float64"
          },
          "metadata": {}
        }
      ]
    },
    {
      "cell_type": "code",
      "source": "#get the reasons for the return by each product\ndf.groupby('product')['reason'].value_counts(normalize = True)",
      "metadata": {
        "trusted": true
      },
      "execution_count": 10,
      "outputs": [
        {
          "execution_count": 10,
          "output_type": "execute_result",
          "data": {
            "text/plain": "product  reason          \nB        bad quality         0.5\n         no longer needed    0.5\nC        bad quality         1.0\nD        no longer needed    1.0\nG        don’t like it       1.0\nName: reason, dtype: float64"
          },
          "metadata": {}
        }
      ]
    },
    {
      "cell_type": "code",
      "source": "#draw chart\nSeries_Pie = df.groupby('product')['reason'].value_counts(normalize = True)\nSeries_Pie",
      "metadata": {
        "trusted": true
      },
      "execution_count": 11,
      "outputs": [
        {
          "execution_count": 11,
          "output_type": "execute_result",
          "data": {
            "text/plain": "product  reason          \nB        bad quality         0.5\n         no longer needed    0.5\nC        bad quality         1.0\nD        no longer needed    1.0\nG        don’t like it       1.0\nName: reason, dtype: float64"
          },
          "metadata": {}
        }
      ]
    },
    {
      "cell_type": "code",
      "source": "plt.pie(\n    x = Series_Pie,\n    labels = Series_Pie.index,\n    autopct = '%.2f%%'\n)\nplt.show()",
      "metadata": {
        "trusted": true
      },
      "execution_count": 12,
      "outputs": [
        {
          "output_type": "display_data",
          "data": {
            "text/plain": "<Figure size 640x480 with 1 Axes>",
            "image/png": "[encoded data removed]"
          },
          "metadata": {}
        }
      ]
    },
    {
      "cell_type": "code",
      "source": "#end\n#Lydia Guo",
      "metadata": {
        "trusted": true
      },
      "execution_count": null,
      "outputs": []
    }
  ]
}